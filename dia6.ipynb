{
 "cells": [
  {
   "cell_type": "code",
   "execution_count": null,
   "metadata": {},
   "outputs": [],
   "source": [
    "def conv_temperatura(celsius):\n",
    "    return (celsius * 1.8) + 32\n",
    "\n",
    "temperatura = float(input(\"Por favor ingrese una temperatura en Celsius: \"))\n",
    "\n",
    "temperatura_fahrenheit = conv_temperatura(temperatura)\n",
    "\n",
    "print(f\"La temperatura ingresada es igual a {temperatura_fahrenheit}°F\")\n"
   ]
  }
 ],
 "metadata": {
  "kernelspec": {
   "display_name": "Python 3",
   "language": "python",
   "name": "python3"
  },
  "language_info": {
   "codemirror_mode": {
    "name": "ipython",
    "version": 3
   },
   "file_extension": ".py",
   "mimetype": "text/x-python",
   "name": "python",
   "nbconvert_exporter": "python",
   "pygments_lexer": "ipython3",
   "version": "3.12.3"
  }
 },
 "nbformat": 4,
 "nbformat_minor": 2
}
