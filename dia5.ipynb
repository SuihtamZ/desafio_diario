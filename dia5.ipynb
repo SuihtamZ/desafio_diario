{
 "cells": [
  {
   "cell_type": "code",
   "execution_count": null,
   "metadata": {},
   "outputs": [],
   "source": [
    "diccionario_vacio = {}\n",
    "\n",
    "lista_claves = ['nombre', 'apellido','edad','genero','telefono','correo']\n",
    "\n",
    "for clave in lista_claves:\n",
    "    diccionario_vacio[clave] = input(f'Por favor ingrese el {clave} del usuario/a')\n",
    "\n",
    "print(diccionario_vacio)"
   ]
  }
 ],
 "metadata": {
  "kernelspec": {
   "display_name": "Python 3",
   "language": "python",
   "name": "python3"
  },
  "language_info": {
   "codemirror_mode": {
    "name": "ipython",
    "version": 3
   },
   "file_extension": ".py",
   "mimetype": "text/x-python",
   "name": "python",
   "nbconvert_exporter": "python",
   "pygments_lexer": "ipython3",
   "version": "3.12.3"
  }
 },
 "nbformat": 4,
 "nbformat_minor": 2
}
