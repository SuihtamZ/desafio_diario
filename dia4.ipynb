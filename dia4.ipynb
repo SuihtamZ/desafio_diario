{
 "cells": [
  {
   "cell_type": "code",
   "execution_count": 11,
   "metadata": {},
   "outputs": [
    {
     "name": "stdout",
     "output_type": "stream",
     "text": [
      "Números ingresados: [6, 41, 56, 225]\n"
     ]
    }
   ],
   "source": [
    "numeros = []\n",
    "\n",
    "while True:\n",
    "    entrada = input(\"Ingrese un número o 'salir' para terminar: \")\n",
    "\n",
    "    if entrada.lower() == 'salir' or entrada.lower() == '':\n",
    "        break\n",
    "    try:\n",
    "        numero = int(entrada)\n",
    "        numeros.append(numero)\n",
    "    except ValueError:\n",
    "        print(\"Por favor, ingrese un número válido.\")\n",
    "\n",
    "numeros.sort()\n",
    "print(f\"Números ingresados: {numeros}\")\n"
   ]
  }
 ],
 "metadata": {
  "kernelspec": {
   "display_name": "Python 3",
   "language": "python",
   "name": "python3"
  },
  "language_info": {
   "codemirror_mode": {
    "name": "ipython",
    "version": 3
   },
   "file_extension": ".py",
   "mimetype": "text/x-python",
   "name": "python",
   "nbconvert_exporter": "python",
   "pygments_lexer": "ipython3",
   "version": "3.12.3"
  }
 },
 "nbformat": 4,
 "nbformat_minor": 2
}
