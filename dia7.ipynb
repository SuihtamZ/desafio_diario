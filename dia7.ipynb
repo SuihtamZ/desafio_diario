{
 "cells": [
  {
   "cell_type": "code",
   "execution_count": null,
   "metadata": {},
   "outputs": [],
   "source": [
    "import random\n",
    "\n",
    "def obtener_eleccion_usuario():\n",
    "    opciones = {'1': 'Piedra', '2': 'Papel', '3': 'Tijera'}\n",
    "    eleccion = input(\"Elige una opción (1: Piedra, 2: Papel, 3: Tijera): \")\n",
    "    while eleccion not in opciones:\n",
    "        print(\"Opción no válida. Por favor, elige nuevamente.\")\n",
    "        eleccion = input(\"Elige una opción (1: Piedra, 2: Papel, 3: Tijera): \")\n",
    "    return opciones[eleccion]\n",
    "\n",
    "def obtener_eleccion_computadora():\n",
    "    opciones = ['Piedra', 'Papel', 'Tijera']\n",
    "    return random.choice(opciones)\n",
    "\n",
    "def determinar_ganador(usuario, computadora):\n",
    "    if usuario == computadora:\n",
    "        return \"Empate\"\n",
    "    elif (usuario == 'Piedra' and computadora == 'Tijera') or \\\n",
    "         (usuario == 'Papel' and computadora == 'Piedra') or \\\n",
    "         (usuario == 'Tijera' and computadora == 'Papel'):\n",
    "        return \"Ganaste\"\n",
    "    else:\n",
    "        return \"Perdiste\"\n",
    "\n",
    "def jugar():\n",
    "    print(\"¡Bienvenido al juego de Piedra, Papel o Tijera!\")\n",
    "    while True:\n",
    "        eleccion_usuario = obtener_eleccion_usuario()\n",
    "        eleccion_computadora = obtener_eleccion_computadora()\n",
    "\n",
    "        print(f\"Tú elegiste: {eleccion_usuario}\")\n",
    "        print(f\"La computadora eligió: {eleccion_computadora}\")\n",
    "\n",
    "        resultado = determinar_ganador(eleccion_usuario, eleccion_computadora)\n",
    "        print(f\"Resultado: {resultado}\")\n",
    "\n",
    "        jugar_nuevamente = input(\"¿Quieres jugar nuevamente? (s/n): \")\n",
    "        if jugar_nuevamente.lower() != 's':\n",
    "            break\n",
    "\n",
    "jugar()"
   ]
  }
 ],
 "metadata": {
  "kernelspec": {
   "display_name": "Python 3",
   "language": "python",
   "name": "python3"
  },
  "language_info": {
   "codemirror_mode": {
    "name": "ipython",
    "version": 3
   },
   "file_extension": ".py",
   "mimetype": "text/x-python",
   "name": "python",
   "nbconvert_exporter": "python",
   "pygments_lexer": "ipython3",
   "version": "3.12.3"
  }
 },
 "nbformat": 4,
 "nbformat_minor": 2
}
