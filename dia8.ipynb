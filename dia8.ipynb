{
 "cells": [
  {
   "cell_type": "code",
   "execution_count": 15,
   "metadata": {},
   "outputs": [
    {
     "name": "stdout",
     "output_type": "stream",
     "text": [
      "dGDoJx*n\n"
     ]
    }
   ],
   "source": [
    "import random\n",
    "import string\n",
    "\n",
    "def crear_contrasena ():\n",
    "    alfabeto_may = string.ascii_lowercase\n",
    "    alfabeto_min = string.ascii_uppercase\n",
    "    numeros = '123456789'\n",
    "    caracter = \"[]{}()*,.:;/-_\"\n",
    "\n",
    "    combinar = alfabeto_may\n",
    "    combinar = combinar + alfabeto_min\n",
    "    combinar = combinar + numeros\n",
    "    combinar = combinar + caracter\n",
    "\n",
    "    longitud = random.randint(8, 16)\n",
    "\n",
    "    contrasena = \"\".join(random.sample(combinar, longitud))\n",
    "\n",
    "    print(contrasena)\n",
    "\n",
    "crear_contrasena()"
   ]
  }
 ],
 "metadata": {
  "kernelspec": {
   "display_name": "Python 3",
   "language": "python",
   "name": "python3"
  },
  "language_info": {
   "codemirror_mode": {
    "name": "ipython",
    "version": 3
   },
   "file_extension": ".py",
   "mimetype": "text/x-python",
   "name": "python",
   "nbconvert_exporter": "python",
   "pygments_lexer": "ipython3",
   "version": "3.12.3"
  }
 },
 "nbformat": 4,
 "nbformat_minor": 2
}
