{
 "cells": [
  {
   "cell_type": "code",
   "execution_count": 4,
   "metadata": {},
   "outputs": [
    {
     "name": "stdout",
     "output_type": "stream",
     "text": [
      "En la palabra ingresada hay 6 vocales\n"
     ]
    }
   ],
   "source": [
    "def contar_vocales(palabra):\n",
    "    vocales ='aeiouAEIOU'\n",
    "    contador = 0\n",
    "    for letra in palabra:\n",
    "        if letra in vocales:\n",
    "            contador += 1\n",
    "    return contador\n",
    "\n",
    "palabra = input(\"Ingrese una palabra por favor\")\n",
    "\n",
    "cantidad_vocales = contar_vocales(palabra)\n",
    "\n",
    "print(f'En la palabra ingresada hay {cantidad_vocales} vocales')"
   ]
  }
 ],
 "metadata": {
  "kernelspec": {
   "display_name": "Python 3",
   "language": "python",
   "name": "python3"
  },
  "language_info": {
   "codemirror_mode": {
    "name": "ipython",
    "version": 3
   },
   "file_extension": ".py",
   "mimetype": "text/x-python",
   "name": "python",
   "nbconvert_exporter": "python",
   "pygments_lexer": "ipython3",
   "version": "3.12.3"
  }
 },
 "nbformat": 4,
 "nbformat_minor": 2
}
